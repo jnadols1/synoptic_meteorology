{
 "cells": [
  {
   "cell_type": "code",
   "execution_count": 3,
   "metadata": {},
   "outputs": [],
   "source": [
    "%matplotlib inline\n",
    "from datetime import datetime\n",
    "import warnings\n",
    "warnings.filterwarnings('ignore')\n",
    "\n",
    "import cartopy.crs as ccrs\n",
    "import cartopy.feature as cfeature\n",
    "from IPython.display import display\n",
    "import ipywidgets as widgets\n",
    "import matplotlib.pyplot as plt\n",
    "from metpy.units import units\n",
    "import numpy as np\n",
    "import metpy.calc as mpcalc\n",
    "from metpy.interpolate import interpolate_to_isosurface\n",
    "from metpy.constants import g\n",
    "import xarray as xr\n"
   ]
  },
  {
   "cell_type": "code",
   "execution_count": 2,
   "metadata": {},
   "outputs": [],
   "source": [
    "def interp_to_DT(pv, var, pv_lev):\n",
    "    above, below, good = mpcalc.find_bounding_indices(pv, [pv_lev], axis=0)\n",
    "    trop = ((var[below]-var[above])/(pv[below]-pv[above])) * (pv_lev - pv[above]) + var[above]\n",
    "    trop[~good] = np.nan\n",
    "    minpv = (np.min(pv, axis=0) >= pv_lev)\n",
    "    maxpv = (np.max(pv, axis=0) <= pv_lev)\n",
    "    trop[0][minpv] = var[-1][minpv]\n",
    "    trop[0][maxpv] = var[0][maxpv]\n",
    "    return trop"
   ]
  },
  {
   "cell_type": "code",
   "execution_count": 2,
   "metadata": {},
   "outputs": [],
   "source": [
    "def getdata(year='1999',month='6', day='19', hour='12'):\n",
    "    \n",
    "    # Reduce lat/lon to get rid of missing values\n",
    "    iymin = 5\n",
    "    ixmin = 5\n",
    "    iymax = 270\n",
    "    ixmax = 335\n",
    "    \n",
    "    dt = datetime(int(year),int(month),int(day),int(hour))\n",
    "    \n",
    "    # Grab Pressure Level Data\n",
    "    air_data = xr.open_dataset('http://www.esrl.noaa.gov/psd/thredds/dodsC/Datasets/'\n",
    "                               f'NARR/pressure/air.{dt:%Y%m}.nc')\n",
    "    uwnd_data = xr.open_dataset('http://www.esrl.noaa.gov/psd/thredds/dodsC/Datasets/'\n",
    "                                f'NARR/pressure/uwnd.{dt:%Y%m}.nc')\n",
    "    vwnd_data = xr.open_dataset('http://www.esrl.noaa.gov/psd/thredds/dodsC/Datasets/'\n",
    "                                f'NARR/pressure/vwnd.{dt:%Y%m}.nc')\n",
    "        \n",
    "    vtimes = air_data.time.sel(time=dt).values.astype('datetime64[ms]').astype('O')\n",
    "      \n",
    "    data = {}\n",
    "    data['airtemp'] = air_data.air.sel(time=dt).isel(y=slice(iymin,iymax), x=slice(ixmin, ixmax)).metpy.unit_array\n",
    "    data['uwnd'] = uwnd_data.uwnd.sel(time=dt).isel(y=slice(iymin,iymax), x=slice(ixmin, ixmax)).metpy.unit_array\n",
    "    data['vwnd'] = vwnd_data.vwnd.sel(time=dt).isel(y=slice(iymin,iymax), x=slice(ixmin, ixmax)).metpy.unit_array\n",
    "    data['time'] = vtimes\n",
    "    data['level'] = air_data.level.values\n",
    "    data['lat'] = air_data.lat.isel(y=slice(iymin,iymax), x=slice(ixmin, ixmax)).values\n",
    "    data['lon'] = air_data.lon.isel(y=slice(iymin,iymax), x=slice(ixmin, ixmax)).values\n",
    "    \n",
    "    return data"
   ]
  },
  {
   "cell_type": "code",
   "execution_count": 16,
   "metadata": {},
   "outputs": [],
   "source": [
    "def plot(level='250'):\n",
    "    data = x.widget.result\n",
    "    year = x.widget.kwargs['year']\n",
    "    month = x.widget.kwargs['month']\n",
    "    day = x.widget.kwargs['day']\n",
    "    hour = x.widget.kwargs['hour']\n",
    "        \n",
    "    dt = datetime(int(year),int(month),int(day),int(hour))\n",
    "        \n",
    "    # Pull out the lat and lon data\n",
    "    lat = data['lat'][:]\n",
    "    lon = data['lon'][:]\n",
    "    pres_levs = data['level'][::-1] * units.hPa\n",
    "    pres_levs3 = pres_levs[:, None, None]\n",
    "    ip850 = np.where(pres_levs.m == 850)[0][0]\n",
    "    ip925 = np.where(pres_levs.m == 925)[0][0]\n",
    "    \n",
    "    if (level != 'DT'):\n",
    "        lev = np.where(pres_levs.m == level)[0][0]\n",
    "    \n",
    "    plotcrs = ccrs.LambertConformal(central_latitude=45., central_longitude=-100.,\n",
    "                                    standard_parallels=[30, 60])\n",
    "    \n",
    "    datacrs = ccrs.PlateCarree()\n",
    "\n",
    "    tlatslons = plotcrs.transform_points(datacrs,lon,lat)\n",
    "    tlon = tlatslons[:,:,0]\n",
    "    tlat = tlatslons[:,:,1]\n",
    "\n",
    "    dx, dy = mpcalc.lat_lon_grid_deltas(lon, lat)\n",
    "    \n",
    "    temp_var = mpcalc.smooth_n_point(data['airtemp'][::-1,:,:], 9, 10)\n",
    "    uwnd_var = mpcalc.smooth_n_point(data['uwnd'][::-1,:,:], 9, 10)\n",
    "    vwnd_var = mpcalc.smooth_n_point(data['vwnd'][::-1,:,:], 9, 10)\n",
    "\n",
    "    thta_var = mpcalc.potential_temperature(pres_levs3,temp_var)\n",
    "    \n",
    "    relvor = mpcalc.vorticity(uwnd_var, vwnd_var, dx[None,:,:], dy[None,:,:])\n",
    "\n",
    "    epv = mpcalc.potential_vorticity_baroclinic(thta_var, pres_levs3, uwnd_var, vwnd_var,\n",
    "                                                dx[None,:,:], dy[None,:,:], np.deg2rad(lat[None, :, :]))\n",
    "    \n",
    "    if (level != 'DT'):\n",
    "        wspd = mpcalc.wind_speed(uwnd_var[lev], vwnd_var[lev]).to('kt')\n",
    "        div = mpcalc.divergence(uwnd_var[lev], vwnd_var[lev], dx, dy)\n",
    "    else:\n",
    "        thta_DT = interpolate_to_isosurface(epv.m*1e6, thta_var.m, 2)\n",
    "        uwnd_DT = interpolate_to_isosurface(epv.m*1e6, uwnd_var.m, 2)\n",
    "        vwnd_DT = interpolate_to_isosurface(epv.m*1e6, vwnd_var.m, 2)\n",
    "        relvor_925850 = np.average(relvor[[ip925,ip850],:,:], axis=0)\n",
    "    \n",
    "    fig = plt.figure(figsize=(16, 14))\n",
    "    ax = fig.add_subplot(111, projection=plotcrs)\n",
    "    ax.set_extent([230., 290., 20., 55.], ccrs.PlateCarree())\n",
    "\n",
    "    # Add state boundaries to plot\n",
    "    ax.add_feature(cfeature.STATES.with_scale('50m'))\n",
    "    \n",
    "    # Add country borders to plot\n",
    "    ax.add_feature(cfeature.COASTLINE.with_scale('50m'))\n",
    "    \n",
    "    #print(epv)\n",
    "    # Contour based on variable chosen\n",
    "    if (level != 'DT'):\n",
    "        clevPV = np.arange(1, 20, 1)\n",
    "        cs = ax.contour(tlon, tlat, epv[lev]*1e6, clevPV, linewidth=2, colors='black')\n",
    "        plt.clabel(cs,inline=True,fmt='%d')\n",
    "        cs2 = ax.contour(tlon, tlat, div*1e5, range(1, 50, 3), colors='k', linestyles='dashed', alpha=0.6)\n",
    "        plt.clabel(cs2, fmt='%i', rightside_up=True)\n",
    "        cf = ax.contourf(tlon, tlat, wspd, np.arange(50,230,20), cmap='BuPu')\n",
    "        cb = fig.colorbar(cf, orientation='horizontal',ax=ax,pad=0,aspect=50,extendrect='True')\n",
    "        plt.title(r''+str(level)+'-hPa PV (hPa), Wind Speed (kts), and Divergence ($10^5$ $s^{-1}$)',\n",
    "                  loc='left')\n",
    "    else:\n",
    "        clev_thta = np.arange(258,427,6)\n",
    "        cs = ax.contour(tlon, tlat, mpcalc.smooth_n_point(thta_DT, 9, 2), clev_thta, colors='k', linestyles='dotted', alpha=0.5)\n",
    "        cs2 = ax.contour(tlon, tlat, relvor_925850*1e4, np.arange(0.5,30,.5), colors='k', alpha=0.85)\n",
    "        cf = ax.contourf(tlon, tlat, thta_DT, clev_thta, cmap='coolwarm', extend='both')\n",
    "        cb = fig.colorbar(cf, orientation='horizontal',ax=ax,pad=0,aspect=50,extendrect='True')\n",
    "        plt.title(r'Dynamic Tropopause Pot. Temp. (K), Wind Barbs (kt), 925-850-hPa Rel. Vort ($10^4$ $s^{-1}$)',\n",
    "                  loc='left')\n",
    "        \n",
    "        # Plot Wind Barbs\n",
    "        # Transform Vectors and plot wind barbs.\n",
    "        wind_slice = [slice(None, None, 7), slice(None, None, 7)]\n",
    "        ax.barbs(lon[wind_slice], lat[wind_slice],\n",
    "                 uwnd_DT[wind_slice]*units('m/s').to('kts').m, vwnd_DT[wind_slice]*units('m/s').to('kts').m,\n",
    "                 length=6, pivot='middle', alpha=0.6, transform=datacrs)\n",
    "\n",
    "    \n",
    "    plt.title('VALID: {}'.format(data['time']), loc='right')\n",
    "    plt.show()"
   ]
  },
  {
   "cell_type": "code",
   "execution_count": 18,
   "metadata": {},
   "outputs": [],
   "source": [
    "year_widget = widgets.Dropdown(\n",
    "    options=list(range(1979,2019)),\n",
    "    description='Year', alignment='center')\n",
    "\n",
    "month_widget = widgets.Dropdown(\n",
    "    options=list(range(1,13)),\n",
    "    description='Month', alignment='center')\n",
    "\n",
    "day_widget = widgets.Dropdown(description='Day', options=list(range(1,32)))\n",
    "hour_widget = widgets.Dropdown(description='Hour', options=[0,3,6,9,12,15,18,21])\n",
    "\n",
    "levels = [150, 200, 250, 300, 350, 400, 'DT']\n",
    "#print(levels)\n",
    "#level_widget = widgets.BoundedIntText(value=300,min=100,max=400,step=1,\n",
    "#                                      description='Level: ',disabled=False)\n",
    "level_widget = widgets.Dropdown(description='Level', options=levels)"
   ]
  },
  {
   "cell_type": "code",
   "execution_count": 6,
   "metadata": {
    "collapsed": true,
    "jupyter": {
     "outputs_hidden": true
    }
   },
   "outputs": [
    {
     "data": {
      "application/vnd.jupyter.widget-view+json": {
       "model_id": "b32b7863f2e74f188cd428b8eb435d9c",
       "version_major": 2,
       "version_minor": 0
      },
      "text/plain": [
       "interactive(children=(Dropdown(description='Year', options=(1979, 1980, 1981, 1982, 1983, 1984, 1985, 1986, 19…"
      ]
     },
     "metadata": {},
     "output_type": "display_data"
    }
   ],
   "source": [
    "x = widgets.interact_manual(getdata,year=year_widget,month=month_widget, day=day_widget, hour=hour_widget)"
   ]
  },
  {
   "cell_type": "code",
   "execution_count": 19,
   "metadata": {},
   "outputs": [
    {
     "name": "stdout",
     "output_type": "stream",
     "text": [
      "Select the desired PV Level or the DT\n"
     ]
    },
    {
     "data": {
      "application/vnd.jupyter.widget-view+json": {
       "model_id": "bf146d008cde443092f1386935ae2b11",
       "version_major": 2,
       "version_minor": 0
      },
      "text/plain": [
       "interactive(children=(Dropdown(description='Level', options=(150, 200, 250, 300, 350, 400, 'DT'), value=150), …"
      ]
     },
     "metadata": {},
     "output_type": "display_data"
    }
   ],
   "source": [
    "print('Select the desired PV Level or the DT')\n",
    "p = widgets.interact_manual(plot, level=level_widget)"
   ]
  },
  {
   "cell_type": "code",
   "execution_count": null,
   "metadata": {},
   "outputs": [],
   "source": []
  }
 ],
 "metadata": {
  "anaconda-cloud": {},
  "kernelspec": {
   "display_name": "Python 3",
   "language": "python",
   "name": "python3"
  },
  "language_info": {
   "codemirror_mode": {
    "name": "ipython",
    "version": 3
   },
   "file_extension": ".py",
   "mimetype": "text/x-python",
   "name": "python",
   "nbconvert_exporter": "python",
   "pygments_lexer": "ipython3",
   "version": "3.6.7"
  }
 },
 "nbformat": 4,
 "nbformat_minor": 4
}
